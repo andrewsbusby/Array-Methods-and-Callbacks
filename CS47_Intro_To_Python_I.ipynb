{
  "nbformat": 4,
  "nbformat_minor": 0,
  "metadata": {
    "colab": {
      "name": "CS47 Intro To Python I.ipynb",
      "provenance": [],
      "include_colab_link": true
    },
    "kernelspec": {
      "name": "python3",
      "display_name": "Python 3"
    },
    "language_info": {
      "name": "python"
    }
  },
  "cells": [
    {
      "cell_type": "markdown",
      "metadata": {
        "id": "view-in-github",
        "colab_type": "text"
      },
      "source": [
        "<a href=\"https://colab.research.google.com/github/andrewsbusby/Array-Methods-and-Callbacks/blob/master/CS47_Intro_To_Python_I.ipynb\" target=\"_parent\"><img src=\"https://colab.research.google.com/assets/colab-badge.svg\" alt=\"Open In Colab\"/></a>"
      ]
    },
    {
      "cell_type": "markdown",
      "metadata": {
        "id": "mNXrK9z3LW3T"
      },
      "source": [
        "## Attendance code: 2839\n",
        "# Intro to Python I\n",
        "\n",
        "## Some Basics before we get in to the language\n",
        "- creating a python file\n",
        "- directories?\n",
        "- using python in the shell\n",
        "- using the python REPL\n",
        "- using python in a notebook\n",
        "\n",
        "## Some Objectives\n",
        "- Name and describe the details of each step of Lambda's Problem-Solving Framework (U.P.E.R.)\n",
        "- Use a print statement\n",
        "- use white space to denote blocks\n",
        "- use basic types\n",
        "- use basic operators\n",
        "- create f strings\n",
        "- perform basic string operations\n",
        "- evaluate conditional operations\n",
        "- use for and while loops\n",
        "- create user defined functions and call them"
      ]
    },
    {
      "cell_type": "markdown",
      "metadata": {
        "id": "2o70EScg7q6H"
      },
      "source": [
        "# markdown\n"
      ]
    },
    {
      "cell_type": "code",
      "metadata": {
        "colab": {
          "base_uri": "https://localhost:8080/"
        },
        "id": "Iuu3hht37ykb",
        "outputId": "a3f86fcc-f6d3-4b3c-c58a-b4418c3ec2ef"
      },
      "source": [
        "print(\"Hello from the colab!\")"
      ],
      "execution_count": null,
      "outputs": [
        {
          "output_type": "stream",
          "text": [
            "Hello from the colab!\n"
          ],
          "name": "stdout"
        }
      ]
    },
    {
      "cell_type": "code",
      "metadata": {
        "colab": {
          "base_uri": "https://localhost:8080/"
        },
        "id": "xz3byhHvLSF8",
        "outputId": "a98a975e-7bea-486c-ef0e-c0e69293c41e"
      },
      "source": [
        "# Let's print some things to the screen!\n",
        "print(\"Hello to CS47!\")\n",
        "print(\"some other stuff\")"
      ],
      "execution_count": null,
      "outputs": [
        {
          "output_type": "stream",
          "text": [
            "Hello to CS47!\n",
            "some other stuff\n"
          ],
          "name": "stdout"
        }
      ]
    },
    {
      "cell_type": "code",
      "metadata": {
        "colab": {
          "base_uri": "https://localhost:8080/"
        },
        "id": "UDg__0omMaiT",
        "outputId": "246da115-2808-488d-edde-9183aa6d893c"
      },
      "source": [
        "# lets look at some types\n",
        "\n",
        "print(type(123))\n",
        "print(type(12.9))\n",
        "print(type(\"Hello\"))\n",
        "print(type([1, 2, 3]))\n",
        "print(type({\"a\": 12, \"b\": 22}))\n"
      ],
      "execution_count": null,
      "outputs": [
        {
          "output_type": "stream",
          "text": [
            "<class 'int'>\n",
            "<class 'float'>\n",
            "<class 'str'>\n",
            "<class 'list'>\n",
            "<class 'dict'>\n"
          ],
          "name": "stdout"
        }
      ]
    },
    {
      "cell_type": "code",
      "metadata": {
        "colab": {
          "base_uri": "https://localhost:8080/"
        },
        "id": "WyqkvZVWMeYk",
        "outputId": "61c42842-afac-4129-b119-8ec55e166a24"
      },
      "source": [
        "# basic operators\n",
        "\"\"\"\n",
        "= # assignment\n",
        "+= 1 # increment\n",
        "-= 1 # decrement\n",
        "*\n",
        "*=\n",
        "/=\n",
        "/\n",
        "%\n",
        "\"\"\"\n",
        "\n",
        "a = 12\n",
        "b = 10\n",
        "print(a)\n",
        "a += b\n",
        "print(a)\n",
        "\n",
        "a *= b\n",
        "print(a)\n"
      ],
      "execution_count": null,
      "outputs": [
        {
          "output_type": "stream",
          "text": [
            "12\n",
            "22\n",
            "220\n"
          ],
          "name": "stdout"
        }
      ]
    },
    {
      "cell_type": "code",
      "metadata": {
        "colab": {
          "base_uri": "https://localhost:8080/"
        },
        "id": "nHpmlL3lMhWU",
        "outputId": "13945227-52aa-4d47-97fd-69f402f3f772"
      },
      "source": [
        "# f-strings\n",
        "z = 1234567\n",
        "s1 = str(3) + \"   hello some text   \" + str(z) + \"   \" + str(z + 3)\n",
        "s = f\" {1 + 2}   {'hello'} some text   {z}   {z + 3}\"\n",
        "\n",
        "print(type(s))"
      ],
      "execution_count": null,
      "outputs": [
        {
          "output_type": "stream",
          "text": [
            "<class 'str'>\n"
          ],
          "name": "stdout"
        }
      ]
    },
    {
      "cell_type": "code",
      "metadata": {
        "colab": {
          "base_uri": "https://localhost:8080/"
        },
        "id": "s_7D-Oy-MjGS",
        "outputId": "822c0c65-9417-48a8-ffdb-9f701d6200ca"
      },
      "source": [
        "# string operations\n",
        "st = \"The brown fox is in the hen house! and i want to fix some things here.\"\n",
        "print(st)\n",
        "st2 = st.lower()\n",
        "print(st2)"
      ],
      "execution_count": null,
      "outputs": [
        {
          "output_type": "stream",
          "text": [
            "The brown fox is in the hen house! and i want to fix some things here.\n",
            "the brown fox is in the hen house! and i want to fix some things here.\n"
          ],
          "name": "stdout"
        }
      ]
    },
    {
      "cell_type": "code",
      "metadata": {
        "colab": {
          "base_uri": "https://localhost:8080/"
        },
        "id": "UW6R8Xc4Mmd2",
        "outputId": "8cce4e64-286e-4865-ff4d-f82e1758dd27"
      },
      "source": [
        "# conditionals\n",
        "a = 90\n",
        "if a > 50:\n",
        "  print(\"a is bigggggggg\")\n",
        "  if a == 100:\n",
        "    print(\"you are 100!!!!!\")\n",
        "elif a <= 40:\n",
        "  print(\"AAAAAAAAAAAA?!\")\n",
        "else:\n",
        "  print(\"I am a fish!\")"
      ],
      "execution_count": null,
      "outputs": [
        {
          "output_type": "stream",
          "text": [
            "a is bigggggggg\n"
          ],
          "name": "stdout"
        }
      ]
    },
    {
      "cell_type": "code",
      "metadata": {
        "colab": {
          "base_uri": "https://localhost:8080/"
        },
        "id": "-fQnN5V6MVeV",
        "outputId": "b69cec50-2c97-4801-d860-63aec6435dc2"
      },
      "source": [
        "# indentation is key to help python know where we are in our code\n",
        "a = 90\n",
        "if a > 50:\n",
        "  print(\"a is bigggggggg\")\n",
        "  if a == 100:\n",
        "    print(\"you are 100!!!!!\")\n",
        "elif a <= 40:\n",
        "  print(\"broken stuff\")\n",
        "  print(\"AAAAAAAAAAAA?!\")\n",
        "else:\n",
        "  print(\"I am a fish!\")"
      ],
      "execution_count": null,
      "outputs": [
        {
          "output_type": "stream",
          "text": [
            "a is bigggggggg\n"
          ],
          "name": "stdout"
        }
      ]
    },
    {
      "cell_type": "code",
      "metadata": {
        "colab": {
          "base_uri": "https://localhost:8080/"
        },
        "id": "jnqZOJObMpCA",
        "outputId": "69aef917-7acc-482b-e7dd-e01fb5e07144"
      },
      "source": [
        "# looping\n",
        "\n",
        "letters = [\"a\", \"b\", \"c\", \"d\"]\n",
        "\n",
        "for letter in letters:\n",
        "  print(letter.upper())\n",
        "\n",
        "for i in range(len(letters)):\n",
        "  if i == 1:\n",
        "    continue\n",
        "  print(letters[i].upper())\n",
        "\n",
        "i = 0\n",
        "while i < len(letters):\n",
        "  print(letters[i].upper())\n",
        "  i += 1 "
      ],
      "execution_count": 34,
      "outputs": [
        {
          "output_type": "stream",
          "name": "stdout",
          "text": [
            "A\n",
            "B\n",
            "C\n",
            "D\n",
            "A\n",
            "C\n",
            "D\n",
            "A\n",
            "B\n",
            "C\n",
            "D\n"
          ]
        }
      ]
    },
    {
      "cell_type": "code",
      "metadata": {
        "id": "9cQbYnUyMrG9",
        "outputId": "83502bda-3abb-44f5-c75a-f2e6580aa22a",
        "colab": {
          "base_uri": "https://localhost:8080/"
        }
      },
      "source": [
        "# lets define some functions and use them\n",
        "def add(a, b):\n",
        "  for i in range(0,10):\n",
        "    print(i)\n",
        "    if i == 5:\n",
        "      break\n",
        "  return a + b\n",
        "\n",
        "add(1, 2)"
      ],
      "execution_count": 38,
      "outputs": [
        {
          "output_type": "stream",
          "name": "stdout",
          "text": [
            "0\n",
            "1\n",
            "2\n",
            "3\n",
            "4\n",
            "5\n"
          ]
        },
        {
          "output_type": "execute_result",
          "data": {
            "text/plain": [
              "3"
            ]
          },
          "metadata": {},
          "execution_count": 38
        }
      ]
    },
    {
      "cell_type": "markdown",
      "metadata": {
        "id": "laZlKUTANiln"
      },
      "source": [
        "# Demo"
      ]
    },
    {
      "cell_type": "code",
      "metadata": {
        "id": "MoCyPQAbNleO"
      },
      "source": [
        "\"\"\"\n",
        "Write a function that creates a dictionary with each (key, value) pair being\n",
        "the (lower case, upper case) versions of a letter, respectively.\n",
        "Examples:\n",
        "- mapping([\"p\", \"s\"]) ➞ { \"p\": \"P\", \"s\": \"S\" }\n",
        "- mapping([\"a\", \"b\", \"c\"]) ➞ { \"a\": \"A\", \"b\": \"B\", \"c\": \"C\" }\n",
        "- mapping([\"a\", \"v\", \"y\", \"z\"]) ➞ { \"a\": \"A\", \"v\": \"V\", \"y\": \"Y\", \"z\": \"Z\" }\n",
        "Notes:\n",
        "- All of the letters in the input list will always be lowercase.\n",
        "\"\"\"\n",
        "def mapping(letters):\n",
        "  pass"
      ],
      "execution_count": null,
      "outputs": []
    }
  ]
}